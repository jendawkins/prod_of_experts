{
 "cells": [
  {
   "cell_type": "code",
   "execution_count": null,
   "metadata": {
    "scrolled": true
   },
   "outputs": [],
   "source": [
    "from spline_learner_poe4d_MM import *\n",
    "from spline_learner_poe_old import *\n",
    "import matplotlib.pyplot as plt\n",
    "\n",
    "np.random.seed(1)"
   ]
  },
  {
   "cell_type": "code",
   "execution_count": null,
   "metadata": {
    "scrolled": false
   },
   "outputs": [],
   "source": [
    "spl = SplineLearnerPOE_4D(use_mm = 0)\n",
    "spl.run(gibbs_steps = 50, train_x = False)"
   ]
  },
  {
   "cell_type": "code",
   "execution_count": 3,
   "metadata": {},
   "outputs": [
    {
     "ename": "NameError",
     "evalue": "name 'xdat' is not defined",
     "output_type": "error",
     "traceback": [
      "\u001b[0;31m---------------------------------------------------------------------------\u001b[0m",
      "\u001b[0;31mNameError\u001b[0m                                 Traceback (most recent call last)",
      "\u001b[0;32m<ipython-input-3-d477c5bf3061>\u001b[0m in \u001b[0;36m<module>\u001b[0;34m\u001b[0m\n\u001b[0;32m----> 1\u001b[0;31m \u001b[0mdiag_mat\u001b[0m\u001b[0;34m(\u001b[0m\u001b[0;34m[\u001b[0m\u001b[0mxdat\u001b[0m \u001b[0;32mfor\u001b[0m \u001b[0mi\u001b[0m \u001b[0;32min\u001b[0m \u001b[0mrange\u001b[0m\u001b[0;34m(\u001b[0m\u001b[0;36m3\u001b[0m\u001b[0;34m)\u001b[0m\u001b[0;34m]\u001b[0m\u001b[0;34m)\u001b[0m\u001b[0;34m.\u001b[0m\u001b[0mshape\u001b[0m\u001b[0;34m\u001b[0m\u001b[0;34m\u001b[0m\u001b[0m\n\u001b[0m",
      "\u001b[0;32m<ipython-input-3-d477c5bf3061>\u001b[0m in \u001b[0;36m<listcomp>\u001b[0;34m(.0)\u001b[0m\n\u001b[0;32m----> 1\u001b[0;31m \u001b[0mdiag_mat\u001b[0m\u001b[0;34m(\u001b[0m\u001b[0;34m[\u001b[0m\u001b[0mxdat\u001b[0m \u001b[0;32mfor\u001b[0m \u001b[0mi\u001b[0m \u001b[0;32min\u001b[0m \u001b[0mrange\u001b[0m\u001b[0;34m(\u001b[0m\u001b[0;36m3\u001b[0m\u001b[0;34m)\u001b[0m\u001b[0;34m]\u001b[0m\u001b[0;34m)\u001b[0m\u001b[0;34m.\u001b[0m\u001b[0mshape\u001b[0m\u001b[0;34m\u001b[0m\u001b[0;34m\u001b[0m\u001b[0m\n\u001b[0m",
      "\u001b[0;31mNameError\u001b[0m: name 'xdat' is not defined"
     ]
    }
   ],
   "source": [
    "diag_mat([xdat for i in range(3)]).shape"
   ]
  },
  {
   "cell_type": "code",
   "execution_count": null,
   "metadata": {
    "scrolled": true
   },
   "outputs": [],
   "source": [
    "aflat.shape"
   ]
  },
  {
   "cell_type": "code",
   "execution_count": 13,
   "metadata": {},
   "outputs": [
    {
     "name": "stdout",
     "output_type": "stream",
     "text": [
      "[[1 2 3 4 5 6 7 8 9]]\n",
      "[[ 5.40715254  3.93553427  3.35191997  2.33352171  1.31952985  2.97525146\n",
      "   3.29491898  1.59339335  3.11744338  4.27121859 13.23336169 10.33264254\n",
      "   7.97816249  5.01766538  2.83161023  6.60756828  7.55287714  3.69604817\n",
      "   8.869733    9.51533433 21.05957085 16.7297508  12.60440501  7.70180906\n",
      "   4.34369062 10.2398851  11.81083529  5.798703   14.62202262 14.75945008]]\n",
      "[[1]\n",
      " [2]\n",
      " [3]\n",
      " [4]\n",
      " [5]\n",
      " [6]\n",
      " [7]\n",
      " [8]\n",
      " [9]]\n",
      "[[ 5.40715254]\n",
      " [ 3.93553427]\n",
      " [ 3.35191997]\n",
      " [ 2.33352171]\n",
      " [ 1.31952985]\n",
      " [ 2.97525146]\n",
      " [ 3.29491898]\n",
      " [ 1.59339335]\n",
      " [ 3.11744338]\n",
      " [ 4.27121859]\n",
      " [13.23336169]\n",
      " [10.33264254]\n",
      " [ 7.97816249]\n",
      " [ 5.01766538]\n",
      " [ 2.83161023]\n",
      " [ 6.60756828]\n",
      " [ 7.55287714]\n",
      " [ 3.69604817]\n",
      " [ 8.869733  ]\n",
      " [ 9.51533433]\n",
      " [21.05957085]\n",
      " [16.7297508 ]\n",
      " [12.60440501]\n",
      " [ 7.70180906]\n",
      " [ 4.34369062]\n",
      " [10.2398851 ]\n",
      " [11.81083529]\n",
      " [ 5.798703  ]\n",
      " [14.62202262]\n",
      " [14.75945008]]\n"
     ]
    }
   ],
   "source": [
    "atest = np.array([[1,2,3],[4,5,6],[7,8,9]])\n",
    "xdat = np.random.rand(10,3)\n",
    "aflat = np.reshape(atest,(1,9),order = 'C')\n",
    "print(aflat)\n",
    "# print(diag_mat([xdat for i in range(3)]))\n",
    "print(aflat@diag_mat([xdat for i in range(3)]).T)\n",
    "\n",
    "aflat2 = np.reshape(atest,(9,1),order = 'C')\n",
    "print(aflat2)\n",
    "# print(diag_mat([xdat for i in range(3)]))\n",
    "print(diag_mat([xdat for i in range(3)])@aflat2)"
   ]
  },
  {
   "cell_type": "code",
   "execution_count": 1,
   "metadata": {
    "scrolled": false
   },
   "outputs": [
    {
     "ename": "NameError",
     "evalue": "name 'plt' is not defined",
     "output_type": "error",
     "traceback": [
      "\u001b[0;31m---------------------------------------------------------------------------\u001b[0m",
      "\u001b[0;31mNameError\u001b[0m                                 Traceback (most recent call last)",
      "\u001b[0;32m<ipython-input-1-cc093b364aba>\u001b[0m in \u001b[0;36m<module>\u001b[0;34m\u001b[0m\n\u001b[0;32m----> 1\u001b[0;31m \u001b[0mplt\u001b[0m\u001b[0;34m.\u001b[0m\u001b[0mplot\u001b[0m\u001b[0;34m(\u001b[0m\u001b[0mspl\u001b[0m\u001b[0;34m.\u001b[0m\u001b[0mtrue_betas\u001b[0m\u001b[0;34m)\u001b[0m\u001b[0;34m\u001b[0m\u001b[0;34m\u001b[0m\u001b[0m\n\u001b[0m",
      "\u001b[0;31mNameError\u001b[0m: name 'plt' is not defined"
     ]
    }
   ],
   "source": [
    "plt.plot(spl.true_betas)"
   ]
  },
  {
   "cell_type": "code",
   "execution_count": 5,
   "metadata": {},
   "outputs": [
    {
     "data": {
      "text/plain": [
       "8"
      ]
     },
     "execution_count": 5,
     "metadata": {},
     "output_type": "execute_result"
    }
   ],
   "source": [
    "spl.num_states"
   ]
  },
  {
   "cell_type": "code",
   "execution_count": 4,
   "metadata": {
    "scrolled": true
   },
   "outputs": [
    {
     "data": {
      "text/plain": [
       "(12, 3)"
      ]
     },
     "execution_count": 4,
     "metadata": {},
     "output_type": "execute_result"
    }
   ],
   "source": [
    "spl.X1.shape"
   ]
  },
  {
   "cell_type": "code",
   "execution_count": 7,
   "metadata": {},
   "outputs": [
    {
     "data": {
      "text/plain": [
       "array([0.96178121, 2.68442894, 4.40707668])"
      ]
     },
     "execution_count": 7,
     "metadata": {},
     "output_type": "execute_result"
    }
   ],
   "source": [
    "np.linspace(min(spl.X1[:,0]*spl.X1[:,0]) + .01, max(spl.X1[:,0]*spl.X1[:,0])-.01, spl.num_knots)\n",
    "\n"
   ]
  },
  {
   "cell_type": "code",
   "execution_count": 6,
   "metadata": {
    "scrolled": true
   },
   "outputs": [
    {
     "data": {
      "text/plain": [
       "(3, 3, 5)"
      ]
     },
     "execution_count": 6,
     "metadata": {},
     "output_type": "execute_result"
    }
   ],
   "source": [
    "spl.knots.shape"
   ]
  },
  {
   "cell_type": "code",
   "execution_count": 7,
   "metadata": {
    "scrolled": true
   },
   "outputs": [
    {
     "data": {
      "text/plain": [
       "array([[[0.90144597, 1.77785365, 2.65426132, 3.530669  , 4.40707668],\n",
       "        [0.8491446 , 1.02756071, 1.20597681, 1.38439292, 1.56280902],\n",
       "        [0.25653247, 1.33051538, 2.4044983 , 3.47848122, 4.55246414]],\n",
       "\n",
       "       [[0.8491446 , 1.02756071, 1.20597681, 1.38439292, 1.56280902],\n",
       "        [0.43285967, 0.58611677, 0.73937386, 0.89263096, 1.04588806],\n",
       "        [0.24206834, 0.58519571, 0.92832308, 1.27145044, 1.61457781]],\n",
       "\n",
       "       [[0.25653247, 1.33051538, 2.4044983 , 3.47848122, 4.55246414],\n",
       "        [0.24206834, 0.58519571, 0.92832308, 1.27145044, 1.61457781],\n",
       "        [0.07817941, 1.23429381, 2.39040821, 3.54652261, 4.70263701]]])"
      ]
     },
     "execution_count": 7,
     "metadata": {},
     "output_type": "execute_result"
    }
   ],
   "source": [
    "spl.knots"
   ]
  },
  {
   "cell_type": "code",
   "execution_count": 9,
   "metadata": {},
   "outputs": [
    {
     "data": {
      "text/plain": [
       "array([0.8491446 , 1.02756071, 1.20597681, 1.38439292, 1.56280902])"
      ]
     },
     "execution_count": 9,
     "metadata": {},
     "output_type": "execute_result"
    }
   ],
   "source": [
    "spl.knots[0,1,:]"
   ]
  },
  {
   "cell_type": "code",
   "execution_count": null,
   "metadata": {
    "scrolled": true
   },
   "outputs": [],
   "source": [
    "spl.trace_a = []\n",
    "spl.trace_b =[]\n",
    "spl.trace_x=[]\n",
    "spl.trace_f1=[]\n",
    "spl.trace_f2=[]\n",
    "spl.trace_beta=[]\n",
    "\n",
    "# for i, y in enumerate(spl.observations):\n",
    "i = 0\n",
    "\n",
    "x0 = np.random.normal(spl.observations[0,:,i], np.sqrt(100))\n",
    "x = np.random.normal(x0, 10, size=(spl.num_states, spl.num_bugs))\n",
    "\n",
    "f1 = np.random.normal(0, np.sqrt(spl.theta_var), size=(spl.num_states-1, spl.num_bugs))\n",
    "f2 = np.random.normal(0, np.sqrt(spl.theta_var), size=(spl.num_states-1, spl.num_bugs))\n",
    "\n",
    "\n",
    "\n",
    "\n",
    "# theta_2 = [st.multivariate_normal(np.zeros(spl.num_bugs**2), spl.avar*np.eye(spl.num_bugs**2)).rvs(),\n",
    "#            st.multivariate_normal(np.zeros(spl.num_bugs**2), spl.bvar*np.eye(spl.num_bugs**2)).rvs()]\n",
    "# theta_2 = [np.random.normal(0,np.sqrt(spl.avar)), np.random.normal(0,np.sqrt(spl.bvar))]\n",
    "\n",
    "mu_post, sig_post = spl.update_theta(x,f2)\n",
    "betas = st.multivariate_normal(mu_post, sig_post*np.eye(sig_post.shape[0])).rvs()\n",
    "# betas = st.multivariate_normal(mu_theta_n, sig_theta).rvs()\n",
    "\n",
    "y = spl.observations[:,:,i]\n",
    "xnew = spl.update_x(x, y, x0, betas, theta_2)\n",
    "\n",
    "xin = x[:-1,:]\n",
    "\n",
    "f1 = xin.flatten(order = 'F') + spl.dt*(xin.flatten(order = 'F')*spl.gr + betas@spl.calc_bmat(xin).T)\n",
    "\n",
    "theta2_n = spl.update_f2(x,theta_2,f1)\n",
    "\n",
    "pvar = spl.update_pvar(x[1:,:].flatten(order = 'F'),f1.flatten(order = 'F'))\n",
    "\n",
    "poe_var = spl.update_poe(f1.flatten(order = 'F'),f2.flatten(order = 'F'))\n"
   ]
  },
  {
   "cell_type": "code",
   "execution_count": null,
   "metadata": {},
   "outputs": [],
   "source": [
    "def diag_mat(X):\n",
    "    out = np.zeros((len(X)*X[0].shape[0], len(X)*X[0].shape[1]))\n",
    "    for i in range(len(X)):\n",
    "        out[i*X[0].shape[0]:(i+1)*X[0].shape[0],i*X[0].shape[1]:(i+1)*X[0].shape[1]] = X[i]\n",
    "    return out"
   ]
  },
  {
   "cell_type": "code",
   "execution_count": 38,
   "metadata": {},
   "outputs": [
    {
     "data": {
      "text/plain": [
       "(30, 72)"
      ]
     },
     "execution_count": 38,
     "metadata": {},
     "output_type": "execute_result"
    }
   ],
   "source": [
    "bmat.shape"
   ]
  },
  {
   "cell_type": "code",
   "execution_count": 37,
   "metadata": {},
   "outputs": [
    {
     "data": {
      "text/plain": [
       "(72, 72)"
      ]
     },
     "execution_count": 37,
     "metadata": {},
     "output_type": "execute_result"
    }
   ],
   "source": [
    "(spl.dt*bmat.T@np.linalg.inv(spl.pvar*spl.dt)@bmat*spl.dt).shape"
   ]
  },
  {
   "cell_type": "code",
   "execution_count": 70,
   "metadata": {},
   "outputs": [],
   "source": [
    "bmat = diag_mat(bmat_full)\n",
    "mu_thetas = spl.mu_betas.flatten(order='F')\n",
    "\n",
    "g1 = bmat@mu_thetas\n",
    "\n",
    "sig_post = np.linalg.inv((1/spl.theta_var)*np.eye(bmat.shape[1]) + spl.dt*bmat.T@np.linalg.inv(spl.pvar*spl.dt)@bmat*spl.dt + spl.dt*bmat.T@np.linalg.inv(spl.poe_var)@bmat*spl.dt)\n",
    "\n",
    "Y_est = x[1:,:]-x[:-1,:] - spl.gr*x[:-1,:]*spl.dt\n",
    "Y_est = Y_est.flatten(order = 'F')\n",
    "\n",
    "f1_flat = f1[1:,:].flatten(order = 'F')\n",
    "\n",
    "mu_post = (((1/spl.theta_var)*np.eye(bmat.shape[1]))@mu_thetas + (bmat.T@np.linalg.inv(spl.pvar*spl.dt))@(Y_est*spl.dt)+ (bmat.T@np.linalg.inv(spl.poe_var))@((spl.dt**2)*f1_flat))@sig_post"
   ]
  },
  {
   "cell_type": "code",
   "execution_count": 68,
   "metadata": {},
   "outputs": [
    {
     "ename": "ValueError",
     "evalue": "matmul: Input operand 1 has a mismatch in its core dimension 0, with gufunc signature (n?,k),(k,m?)->(n?,m?) (size 11 is different from 30)",
     "output_type": "error",
     "traceback": [
      "\u001b[0;31m---------------------------------------------------------------------------\u001b[0m",
      "\u001b[0;31mValueError\u001b[0m                                Traceback (most recent call last)",
      "\u001b[0;32m<ipython-input-68-518c346b2d1b>\u001b[0m in \u001b[0;36m<module>\u001b[0;34m\u001b[0m\n\u001b[0;32m----> 1\u001b[0;31m \u001b[0;34m(\u001b[0m\u001b[0mbmat\u001b[0m\u001b[0;34m.\u001b[0m\u001b[0mT\u001b[0m\u001b[0;34m@\u001b[0m\u001b[0mnp\u001b[0m\u001b[0;34m.\u001b[0m\u001b[0mlinalg\u001b[0m\u001b[0;34m.\u001b[0m\u001b[0minv\u001b[0m\u001b[0;34m(\u001b[0m\u001b[0mspl\u001b[0m\u001b[0;34m.\u001b[0m\u001b[0mpoe_var\u001b[0m\u001b[0;34m)\u001b[0m\u001b[0;34m)\u001b[0m\u001b[0;34m@\u001b[0m\u001b[0;34m(\u001b[0m\u001b[0;34m(\u001b[0m\u001b[0mspl\u001b[0m\u001b[0;34m.\u001b[0m\u001b[0mdt\u001b[0m\u001b[0;34m**\u001b[0m\u001b[0;36m2\u001b[0m\u001b[0;34m)\u001b[0m\u001b[0;34m*\u001b[0m\u001b[0mf1\u001b[0m\u001b[0;34m)\u001b[0m\u001b[0;34m\u001b[0m\u001b[0;34m\u001b[0m\u001b[0m\n\u001b[0m",
      "\u001b[0;31mValueError\u001b[0m: matmul: Input operand 1 has a mismatch in its core dimension 0, with gufunc signature (n?,k),(k,m?)->(n?,m?) (size 11 is different from 30)"
     ]
    }
   ],
   "source": [
    "(bmat.T@np.linalg.inv(spl.poe_var))@((spl.dt**2)*f1)"
   ]
  },
  {
   "cell_type": "code",
   "execution_count": 65,
   "metadata": {},
   "outputs": [
    {
     "data": {
      "text/plain": [
       "array([ 0.        , -0.04363053,  0.        , -0.0218334 , -0.08575386,\n",
       "        0.        ,  0.        ,  0.        ,  0.        , -0.17455505,\n",
       "       -0.11598481, -0.03201104,  0.        ,  0.        ,  0.        ,\n",
       "        0.        ,  0.        , -0.08693128, -0.00702724,  0.20460389,\n",
       "        0.1007608 ,  0.        ,  0.        ,  0.        ,  0.        ,\n",
       "       -0.06327495,  0.07795395,  0.02179614,  0.        ,  0.        ,\n",
       "        0.        ,  0.        ,  0.        ,  0.        , -0.04245447,\n",
       "       -0.12407414, -0.17915542,  0.        ,  0.        ,  0.        ,\n",
       "        0.        , -0.05329083,  0.000652  ,  0.05504823,  0.03699756,\n",
       "        0.        ,  0.        ,  0.        ,  0.        , -0.02426115,\n",
       "       -0.00169417,  0.00092538, -0.03202021,  0.        ,  0.        ,\n",
       "        0.        ,  0.        , -0.05847933,  0.14383547,  0.04040349,\n",
       "        0.05232234,  0.        ,  0.        ,  0.        ,  0.        ,\n",
       "        0.17144547,  0.02751666,  0.        ,  0.        ,  0.        ,\n",
       "        0.        ,  0.        ])"
      ]
     },
     "execution_count": 65,
     "metadata": {},
     "output_type": "execute_result"
    }
   ],
   "source": [
    "(bmat.T@np.linalg.inv(spl.pvar*spl.dt))@(Y_est*spl.dt)"
   ]
  },
  {
   "cell_type": "code",
   "execution_count": 64,
   "metadata": {},
   "outputs": [
    {
     "data": {
      "text/plain": [
       "(30,)"
      ]
     },
     "execution_count": 64,
     "metadata": {},
     "output_type": "execute_result"
    }
   ],
   "source": [
    "(Y_est*spl.dt).shape"
   ]
  },
  {
   "cell_type": "code",
   "execution_count": 63,
   "metadata": {},
   "outputs": [
    {
     "data": {
      "text/plain": [
       "(72, 30)"
      ]
     },
     "execution_count": 63,
     "metadata": {},
     "output_type": "execute_result"
    }
   ],
   "source": [
    "(bmat.T@np.linalg.inv(spl.pvar*spl.dt)).shape"
   ]
  },
  {
   "cell_type": "code",
   "execution_count": 56,
   "metadata": {
    "scrolled": true
   },
   "outputs": [
    {
     "data": {
      "text/plain": [
       "(30, 30)"
      ]
     },
     "execution_count": 56,
     "metadata": {},
     "output_type": "execute_result"
    }
   ],
   "source": [
    "np.linalg.inv(spl.pvar*spl.dt).shape"
   ]
  },
  {
   "cell_type": "code",
   "execution_count": 157,
   "metadata": {},
   "outputs": [],
   "source": [
    "Y_est = x[1:,:]-x[:-1,:] - spl.gr*x[:-1,:]*spl.dt\n",
    "Y_est = Y_est.flatten(order = 'F')"
   ]
  },
  {
   "cell_type": "code",
   "execution_count": 158,
   "metadata": {
    "scrolled": false
   },
   "outputs": [
    {
     "data": {
      "text/plain": [
       "(30,)"
      ]
     },
     "execution_count": 158,
     "metadata": {},
     "output_type": "execute_result"
    }
   ],
   "source": [
    "Y_est.shape"
   ]
  },
  {
   "cell_type": "code",
   "execution_count": 159,
   "metadata": {},
   "outputs": [
    {
     "data": {
      "text/plain": [
       "(30, 216)"
      ]
     },
     "execution_count": 159,
     "metadata": {},
     "output_type": "execute_result"
    }
   ],
   "source": [
    "bmat_full.shape"
   ]
  },
  {
   "cell_type": "code",
   "execution_count": 151,
   "metadata": {},
   "outputs": [
    {
     "ename": "IndexError",
     "evalue": "tuple index out of range",
     "output_type": "error",
     "traceback": [
      "\u001b[0;31m---------------------------------------------------------------------------\u001b[0m",
      "\u001b[0;31mIndexError\u001b[0m                                Traceback (most recent call last)",
      "\u001b[0;32m<ipython-input-151-161c044cfa65>\u001b[0m in \u001b[0;36m<module>\u001b[0;34m\u001b[0m\n\u001b[0;32m----> 1\u001b[0;31m \u001b[0mbmat\u001b[0m \u001b[0;34m=\u001b[0m \u001b[0mnp\u001b[0m\u001b[0;34m.\u001b[0m\u001b[0mreshape\u001b[0m\u001b[0;34m(\u001b[0m\u001b[0mbmat\u001b[0m\u001b[0;34m,\u001b[0m\u001b[0;34m(\u001b[0m\u001b[0mbmat\u001b[0m\u001b[0;34m.\u001b[0m\u001b[0mshape\u001b[0m\u001b[0;34m[\u001b[0m\u001b[0;36m0\u001b[0m\u001b[0;34m]\u001b[0m\u001b[0;34m,\u001b[0m\u001b[0mbmat\u001b[0m\u001b[0;34m.\u001b[0m\u001b[0mshape\u001b[0m\u001b[0;34m[\u001b[0m\u001b[0;36m1\u001b[0m\u001b[0;34m]\u001b[0m\u001b[0;34m*\u001b[0m\u001b[0mbmat\u001b[0m\u001b[0;34m.\u001b[0m\u001b[0mshape\u001b[0m\u001b[0;34m[\u001b[0m\u001b[0;36m2\u001b[0m\u001b[0;34m]\u001b[0m\u001b[0;34m*\u001b[0m\u001b[0mbmat\u001b[0m\u001b[0;34m.\u001b[0m\u001b[0mshape\u001b[0m\u001b[0;34m[\u001b[0m\u001b[0;36m3\u001b[0m\u001b[0;34m]\u001b[0m\u001b[0;34m)\u001b[0m\u001b[0;34m,\u001b[0m \u001b[0morder\u001b[0m \u001b[0;34m=\u001b[0m \u001b[0;34m'F'\u001b[0m\u001b[0;34m)\u001b[0m\u001b[0;34m\u001b[0m\u001b[0;34m\u001b[0m\u001b[0m\n\u001b[0m\u001b[1;32m      2\u001b[0m \u001b[0;34m\u001b[0m\u001b[0m\n\u001b[1;32m      3\u001b[0m \u001b[0mbmat_full\u001b[0m \u001b[0;34m=\u001b[0m \u001b[0mdiag_block_mat\u001b[0m\u001b[0;34m(\u001b[0m\u001b[0mbmat\u001b[0m\u001b[0;34m,\u001b[0m\u001b[0mbmat\u001b[0m\u001b[0;34m.\u001b[0m\u001b[0mshape\u001b[0m\u001b[0;34m[\u001b[0m\u001b[0;36m0\u001b[0m\u001b[0;34m]\u001b[0m\u001b[0;34m*\u001b[0m\u001b[0mspl\u001b[0m\u001b[0;34m.\u001b[0m\u001b[0mnum_bugs\u001b[0m\u001b[0;34m)\u001b[0m\u001b[0;34m\u001b[0m\u001b[0;34m\u001b[0m\u001b[0m\n\u001b[1;32m      4\u001b[0m \u001b[0;34m\u001b[0m\u001b[0m\n\u001b[1;32m      5\u001b[0m \u001b[0mmu_thetas\u001b[0m \u001b[0;34m=\u001b[0m \u001b[0mspl\u001b[0m\u001b[0;34m.\u001b[0m\u001b[0mmu_betas\u001b[0m\u001b[0;34m.\u001b[0m\u001b[0mflatten\u001b[0m\u001b[0;34m(\u001b[0m\u001b[0morder\u001b[0m\u001b[0;34m=\u001b[0m\u001b[0;34m'F'\u001b[0m\u001b[0;34m)\u001b[0m\u001b[0;34m\u001b[0m\u001b[0;34m\u001b[0m\u001b[0m\n",
      "\u001b[0;31mIndexError\u001b[0m: tuple index out of range"
     ]
    }
   ],
   "source": [
    "bmat = np.reshape(bmat,(bmat.shape[0],bmat.shape[1]*bmat.shape[2]*bmat.shape[3]), order = 'F')\n",
    "\n",
    "bmat_full = diag_block_mat(bmat,bmat.shape[0]*spl.num_bugs)\n",
    "\n",
    "mu_thetas = spl.mu_betas.flatten(order='F')\n",
    "\n",
    "Y_est = x[1:,:]-x[:-1,:] - spl.gr*x[:-1,:]*spl.dt\n",
    "Y_est.flatten(order = 'F')\n",
    "\n",
    "# g1 = mu_thetas@bmat_full\n",
    "\n",
    "# # sig_proc = np.linalg.inv(spl.pvar*np.eye(spl.num_bugs**2,spl.num_bugs**2)*spl.dt)\n",
    "\n",
    "# sig_out = spl.theta_var + (spl.dt**2)*bmat_full.T@sig_proc@bmat_full+ (spl.dt**2)*bmat_full.T@spl.poe_var@bmat_full"
   ]
  },
  {
   "cell_type": "code",
   "execution_count": 54,
   "metadata": {},
   "outputs": [
    {
     "ename": "ValueError",
     "evalue": "operands could not be broadcast together with shapes (3,3) (9,8,8,9) ",
     "output_type": "error",
     "traceback": [
      "\u001b[0;31m---------------------------------------------------------------------------\u001b[0m",
      "\u001b[0;31mValueError\u001b[0m                                Traceback (most recent call last)",
      "\u001b[0;32m<ipython-input-54-063054810a25>\u001b[0m in \u001b[0;36m<module>\u001b[0;34m\u001b[0m\n\u001b[1;32m      9\u001b[0m \u001b[0midentity_3d\u001b[0m \u001b[0;34m=\u001b[0m \u001b[0mnp\u001b[0m\u001b[0;34m.\u001b[0m\u001b[0mzeros\u001b[0m\u001b[0;34m(\u001b[0m\u001b[0;34m(\u001b[0m\u001b[0mspl\u001b[0m\u001b[0;34m.\u001b[0m\u001b[0mnum_bugs\u001b[0m\u001b[0;34m**\u001b[0m\u001b[0;36m2\u001b[0m\u001b[0;34m,\u001b[0m\u001b[0mspl\u001b[0m\u001b[0;34m.\u001b[0m\u001b[0mnum_knots\u001b[0m\u001b[0;34m,\u001b[0m\u001b[0mspl\u001b[0m\u001b[0;34m.\u001b[0m\u001b[0mnum_knots\u001b[0m\u001b[0;34m,\u001b[0m\u001b[0mspl\u001b[0m\u001b[0;34m.\u001b[0m\u001b[0mnum_bugs\u001b[0m\u001b[0;34m**\u001b[0m\u001b[0;36m2\u001b[0m\u001b[0;34m)\u001b[0m\u001b[0;34m)\u001b[0m\u001b[0;34m\u001b[0m\u001b[0;34m\u001b[0m\u001b[0m\n\u001b[1;32m     10\u001b[0m \u001b[0mnp\u001b[0m\u001b[0;34m.\u001b[0m\u001b[0meinsum\u001b[0m\u001b[0;34m(\u001b[0m\u001b[0;34m'ijji->ij'\u001b[0m\u001b[0;34m,\u001b[0m \u001b[0midentity_3d\u001b[0m\u001b[0;34m)\u001b[0m\u001b[0;34m[\u001b[0m\u001b[0;34m:\u001b[0m\u001b[0;34m]\u001b[0m \u001b[0;34m=\u001b[0m \u001b[0;36m1\u001b[0m\u001b[0;34m\u001b[0m\u001b[0;34m\u001b[0m\u001b[0m\n\u001b[0;32m---> 11\u001b[0;31m \u001b[0msig\u001b[0m \u001b[0;34m=\u001b[0m \u001b[0mspl\u001b[0m\u001b[0;34m.\u001b[0m\u001b[0mtheta_var\u001b[0m\u001b[0;34m*\u001b[0m\u001b[0midentity_3d\u001b[0m\u001b[0;34m\u001b[0m\u001b[0;34m\u001b[0m\u001b[0m\n\u001b[0m\u001b[1;32m     12\u001b[0m \u001b[0;34m\u001b[0m\u001b[0m\n\u001b[1;32m     13\u001b[0m \u001b[0msig_proc\u001b[0m \u001b[0;34m=\u001b[0m \u001b[0mnp\u001b[0m\u001b[0;34m.\u001b[0m\u001b[0mlinalg\u001b[0m\u001b[0;34m.\u001b[0m\u001b[0minv\u001b[0m\u001b[0;34m(\u001b[0m\u001b[0mspl\u001b[0m\u001b[0;34m.\u001b[0m\u001b[0mpvar\u001b[0m\u001b[0;34m*\u001b[0m\u001b[0mnp\u001b[0m\u001b[0;34m.\u001b[0m\u001b[0meye\u001b[0m\u001b[0;34m(\u001b[0m\u001b[0mspl\u001b[0m\u001b[0;34m.\u001b[0m\u001b[0mnum_bugs\u001b[0m\u001b[0;34m**\u001b[0m\u001b[0;36m2\u001b[0m\u001b[0;34m,\u001b[0m\u001b[0mspl\u001b[0m\u001b[0;34m.\u001b[0m\u001b[0mnum_bugs\u001b[0m\u001b[0;34m**\u001b[0m\u001b[0;36m2\u001b[0m\u001b[0;34m)\u001b[0m\u001b[0;34m*\u001b[0m\u001b[0mspl\u001b[0m\u001b[0;34m.\u001b[0m\u001b[0mdt\u001b[0m\u001b[0;34m)\u001b[0m\u001b[0;34m\u001b[0m\u001b[0;34m\u001b[0m\u001b[0m\n",
      "\u001b[0;31mValueError\u001b[0m: operands could not be broadcast together with shapes (3,3) (9,8,8,9) "
     ]
    }
   ],
   "source": [
    "states = x\n",
    "\n",
    "bmat2 = spl.calc_bmat(states[:-1])\n",
    "bmat = np.reshape(bmat2,(spl.num_bugs**2,bmat2.shape[-1],bmat2.shape[0]))\n",
    "\n",
    "mu = np.reshape(spl.mu_betas,(spl.mu_betas.shape[0],spl.num_bugs**2))\n",
    "# sig = spl.theta_var*np.eye(spl.num_knots,spl.num_knots)\n",
    "\n",
    "identity_3d = np.zeros((spl.num_bugs**2,spl.num_knots,spl.num_knots,spl.num_bugs**2))\n",
    "np.einsum('ijji->ij', identity_3d)[:] = 1\n",
    "sig = spl.theta_var*identity_3d\n",
    "\n",
    "sig_proc = np.linalg.inv(spl.pvar*np.eye(spl.num_bugs**2,spl.num_bugs**2)*spl.dt)\n",
    "\n",
    "# m = np.reshape(mu,mu.shape[0]*mu.shape[1])\n",
    "m,mu_d1,mu_d2 = mu_shape1d(mu)\n",
    "\n",
    "smat, d1,d2 = shape2d(sig)\n",
    "s = np.linalg.inv(smat)\n",
    "# s = np.linalg.inv(np.reshape(sig,(spl.num_bugs**2*spl.num_knots,spl.num_bugs**2*spl.num_knots)))\n",
    "one_m = m@s\n",
    "# one_m = (mu.T@np.linalg.inv(sig)).T\n",
    "two_m,_,_ = mu_shape1d(sig_proc@np.reshape(np.einsum('li,lijk -> ijk',x[1:,:] - x[:-1,:] - spl.dt*spl.gr*x[:-1,:], bmat2)*spl.dt,(spl.num_bugs**2,spl.num_knots)))\n",
    "# two_m = np.reshape(np.einsum('li,lijk -> ijk',x[1:,:] - x[:-1,:] - spl.dt*spl.gr*x[:-1,:], bmat2)*spl.dt,(spl.mu_betas.shape[0],spl.num_bugs**2))@sig_proc\n",
    "three_m,_,_ = mu_shape1d(np.reshape(np.einsum('li,lijk -> ijk',np.linalg.inv(spl.poe_var)@f2[:-1,:]*(spl.dt**2),bmat2),(spl.num_bugs**2,spl.num_knots)))\n",
    "# three_m = np.reshape(np.einsum('li,lijk -> ijk',np.linalg.inv(spl.poe_var)@f2[:-1,:]*(spl.dt**2),bmat2),(spl.mu_betas.shape[0],spl.num_bugs**2))\n",
    "\n",
    "# one_s = (spl.dt**2)*bmat.T@np.linalg.inv(sig_proc*spl.dt)@bmat + (spl.dt**2)*bmat@np.linalg.inv(spl.poe_var)@bmat.T\n",
    "\n",
    "one_s = np.tensordot(np.matmul(bmat.T,np.linalg.inv(sig_proc*spl.dt)).T,bmat.T,1)\n",
    "two_s = np.tensordot(np.matmul(bmat,np.linalg.inv(spl.poe_var)),bmat.T,1)*(spl.dt**2)\n",
    "\n",
    "os,o1,o2 = shape2d(one_s)\n",
    "ts,t1,t2 = shape2d(two_s)\n",
    "sig_post = np.linalg.inv(s+os+ts)\n",
    "\n",
    "mu_post = sig_post@(one_m+two_m+three_m)\n",
    "\n",
    "# sig = np.reshape(s,(spl.num_bugs**2,spl.num_knots,spl.num_knots,spl.num_bugs**2))\n",
    "sig_post_4d = shape3d(sig_post,d1,d2)\n",
    "\n",
    "mu_post_2d = mu_shape2d(mu_post, mu_d1,mu_d2)"
   ]
  },
  {
   "cell_type": "code",
   "execution_count": 143,
   "metadata": {},
   "outputs": [],
   "source": [
    "def update_theta(x,f2):\n",
    "    # bmat = spl.calc_bmat(states)\n",
    "    bmat2 = spl.calc_bmat(states[:-1])\n",
    "    bmat = np.reshape(bmat2,(spl.num_bugs**2,bmat2.shape[-1],bmat2.shape[0]))\n",
    "\n",
    "    mu = np.reshape(spl.mu_betas,(spl.mu_betas.shape[0],spl.num_bugs**2))\n",
    "    sig = spl.theta_var*np.eye(spl.num_knots,spl.num_knots)\n",
    "\n",
    "    sig_proc = np.linalg.inv(spl.pvar*np.eye(spl.num_bugs**2,spl.num_bugs**2)*spl.dt)\n",
    "\n",
    "    one_m = (mu.T@np.linalg.inv(sig)).T\n",
    "    two_m = np.reshape(np.einsum('li,lijk -> ijk',x[1:,:] - x[:-1,:] - spl.dt*spl.gr*x[:-1,:], bmat2)*spl.dt,(spl.mu_betas.shape[0],spl.num_bugs**2))@sig_proc\n",
    "    three_m = np.reshape(np.einsum('li,lijk -> ijk',np.linalg.inv(spl.poe_var)@f2[:-1,:]*(spl.dt**2),bmat2),(spl.mu_betas.shape[0],spl.num_bugs**2))\n",
    "\n",
    "    # one_s = (spl.dt**2)*bmat.T@np.linalg.inv(sig_proc*spl.dt)@bmat + (spl.dt**2)*bmat@np.linalg.inv(spl.poe_var)@bmat.T\n",
    "\n",
    "    one_s = np.sum(np.sum(np.tensordot(np.matmul(bmat.T,np.linalg.inv(sig_proc*spl.dt)).T,bmat.T,1),0),-1)\n",
    "    two_s = np.sum(np.sum(np.tensordot(np.matmul(bmat,np.linalg.inv(spl.poe_var)),bmat.T,1),0),-1)*(spl.dt**2)\n",
    "\n",
    "    sig_post = np.linalg.inv(np.linalg.inv(sig) + one_s + two_s)\n",
    "\n",
    "    mu_post = sig_post@(one_m + two_m + three_m)\n",
    "    return mu_post, sig_post"
   ]
  },
  {
   "cell_type": "code",
   "execution_count": 242,
   "metadata": {},
   "outputs": [
    {
     "ename": "ValueError",
     "evalue": "the input matrix must be positive semidefinite",
     "output_type": "error",
     "traceback": [
      "\u001b[0;31m---------------------------------------------------------------------------\u001b[0m",
      "\u001b[0;31mValueError\u001b[0m                                Traceback (most recent call last)",
      "\u001b[0;32m<ipython-input-242-fc5d46050834>\u001b[0m in \u001b[0;36m<module>\u001b[0;34m\u001b[0m\n\u001b[1;32m     20\u001b[0m \u001b[0;34m\u001b[0m\u001b[0m\n\u001b[1;32m     21\u001b[0m \u001b[0;31m# mu_theta_n, sig_theta = update_theta(x,f2)\u001b[0m\u001b[0;34m\u001b[0m\u001b[0;34m\u001b[0m\u001b[0;34m\u001b[0m\u001b[0m\n\u001b[0;32m---> 22\u001b[0;31m \u001b[0mbetas\u001b[0m \u001b[0;34m=\u001b[0m \u001b[0mst\u001b[0m\u001b[0;34m.\u001b[0m\u001b[0mmultivariate_normal\u001b[0m\u001b[0;34m(\u001b[0m\u001b[0mmu_post\u001b[0m\u001b[0;34m,\u001b[0m \u001b[0msig_post\u001b[0m\u001b[0;34m*\u001b[0m\u001b[0mnp\u001b[0m\u001b[0;34m.\u001b[0m\u001b[0meye\u001b[0m\u001b[0;34m(\u001b[0m\u001b[0msig_post\u001b[0m\u001b[0;34m.\u001b[0m\u001b[0mshape\u001b[0m\u001b[0;34m[\u001b[0m\u001b[0;36m0\u001b[0m\u001b[0;34m]\u001b[0m\u001b[0;34m)\u001b[0m\u001b[0;34m)\u001b[0m\u001b[0;34m.\u001b[0m\u001b[0mrvs\u001b[0m\u001b[0;34m(\u001b[0m\u001b[0;34m)\u001b[0m\u001b[0;34m\u001b[0m\u001b[0;34m\u001b[0m\u001b[0m\n\u001b[0m\u001b[1;32m     23\u001b[0m \u001b[0;31m# betas = st.multivariate_normal(mu_theta_n, sig_theta).rvs()\u001b[0m\u001b[0;34m\u001b[0m\u001b[0;34m\u001b[0m\u001b[0;34m\u001b[0m\u001b[0m\n\u001b[1;32m     24\u001b[0m \u001b[0mxnew\u001b[0m \u001b[0;34m=\u001b[0m \u001b[0mspl\u001b[0m\u001b[0;34m.\u001b[0m\u001b[0mupdate_x\u001b[0m\u001b[0;34m(\u001b[0m\u001b[0mx\u001b[0m\u001b[0;34m,\u001b[0m \u001b[0my\u001b[0m\u001b[0;34m,\u001b[0m \u001b[0mx0\u001b[0m\u001b[0;34m,\u001b[0m \u001b[0mbetas\u001b[0m\u001b[0;34m,\u001b[0m \u001b[0mtheta_2\u001b[0m\u001b[0;34m)\u001b[0m\u001b[0;34m\u001b[0m\u001b[0;34m\u001b[0m\u001b[0m\n",
      "\u001b[0;32m/Library/Frameworks/Python.framework/Versions/3.7/lib/python3.7/site-packages/scipy/stats/_multivariate.py\u001b[0m in \u001b[0;36m__call__\u001b[0;34m(self, mean, cov, allow_singular, seed)\u001b[0m\n\u001b[1;32m    361\u001b[0m         return multivariate_normal_frozen(mean, cov,\n\u001b[1;32m    362\u001b[0m                                           \u001b[0mallow_singular\u001b[0m\u001b[0;34m=\u001b[0m\u001b[0mallow_singular\u001b[0m\u001b[0;34m,\u001b[0m\u001b[0;34m\u001b[0m\u001b[0;34m\u001b[0m\u001b[0m\n\u001b[0;32m--> 363\u001b[0;31m                                           seed=seed)\n\u001b[0m\u001b[1;32m    364\u001b[0m \u001b[0;34m\u001b[0m\u001b[0m\n\u001b[1;32m    365\u001b[0m     \u001b[0;32mdef\u001b[0m \u001b[0m_process_parameters\u001b[0m\u001b[0;34m(\u001b[0m\u001b[0mself\u001b[0m\u001b[0;34m,\u001b[0m \u001b[0mdim\u001b[0m\u001b[0;34m,\u001b[0m \u001b[0mmean\u001b[0m\u001b[0;34m,\u001b[0m \u001b[0mcov\u001b[0m\u001b[0;34m)\u001b[0m\u001b[0;34m:\u001b[0m\u001b[0;34m\u001b[0m\u001b[0;34m\u001b[0m\u001b[0m\n",
      "\u001b[0;32m/Library/Frameworks/Python.framework/Versions/3.7/lib/python3.7/site-packages/scipy/stats/_multivariate.py\u001b[0m in \u001b[0;36m__init__\u001b[0;34m(self, mean, cov, allow_singular, seed, maxpts, abseps, releps)\u001b[0m\n\u001b[1;32m    734\u001b[0m         self.dim, self.mean, self.cov = self._dist._process_parameters(\n\u001b[1;32m    735\u001b[0m                                                             None, mean, cov)\n\u001b[0;32m--> 736\u001b[0;31m         \u001b[0mself\u001b[0m\u001b[0;34m.\u001b[0m\u001b[0mcov_info\u001b[0m \u001b[0;34m=\u001b[0m \u001b[0m_PSD\u001b[0m\u001b[0;34m(\u001b[0m\u001b[0mself\u001b[0m\u001b[0;34m.\u001b[0m\u001b[0mcov\u001b[0m\u001b[0;34m,\u001b[0m \u001b[0mallow_singular\u001b[0m\u001b[0;34m=\u001b[0m\u001b[0mallow_singular\u001b[0m\u001b[0;34m)\u001b[0m\u001b[0;34m\u001b[0m\u001b[0;34m\u001b[0m\u001b[0m\n\u001b[0m\u001b[1;32m    737\u001b[0m         \u001b[0;32mif\u001b[0m \u001b[0;32mnot\u001b[0m \u001b[0mmaxpts\u001b[0m\u001b[0;34m:\u001b[0m\u001b[0;34m\u001b[0m\u001b[0;34m\u001b[0m\u001b[0m\n\u001b[1;32m    738\u001b[0m             \u001b[0mmaxpts\u001b[0m \u001b[0;34m=\u001b[0m \u001b[0;36m1000000\u001b[0m \u001b[0;34m*\u001b[0m \u001b[0mself\u001b[0m\u001b[0;34m.\u001b[0m\u001b[0mdim\u001b[0m\u001b[0;34m\u001b[0m\u001b[0;34m\u001b[0m\u001b[0m\n",
      "\u001b[0;32m/Library/Frameworks/Python.framework/Versions/3.7/lib/python3.7/site-packages/scipy/stats/_multivariate.py\u001b[0m in \u001b[0;36m__init__\u001b[0;34m(self, M, cond, rcond, lower, check_finite, allow_singular)\u001b[0m\n\u001b[1;32m    158\u001b[0m         \u001b[0meps\u001b[0m \u001b[0;34m=\u001b[0m \u001b[0m_eigvalsh_to_eps\u001b[0m\u001b[0;34m(\u001b[0m\u001b[0ms\u001b[0m\u001b[0;34m,\u001b[0m \u001b[0mcond\u001b[0m\u001b[0;34m,\u001b[0m \u001b[0mrcond\u001b[0m\u001b[0;34m)\u001b[0m\u001b[0;34m\u001b[0m\u001b[0;34m\u001b[0m\u001b[0m\n\u001b[1;32m    159\u001b[0m         \u001b[0;32mif\u001b[0m \u001b[0mnp\u001b[0m\u001b[0;34m.\u001b[0m\u001b[0mmin\u001b[0m\u001b[0;34m(\u001b[0m\u001b[0ms\u001b[0m\u001b[0;34m)\u001b[0m \u001b[0;34m<\u001b[0m \u001b[0;34m-\u001b[0m\u001b[0meps\u001b[0m\u001b[0;34m:\u001b[0m\u001b[0;34m\u001b[0m\u001b[0;34m\u001b[0m\u001b[0m\n\u001b[0;32m--> 160\u001b[0;31m             \u001b[0;32mraise\u001b[0m \u001b[0mValueError\u001b[0m\u001b[0;34m(\u001b[0m\u001b[0;34m'the input matrix must be positive semidefinite'\u001b[0m\u001b[0;34m)\u001b[0m\u001b[0;34m\u001b[0m\u001b[0;34m\u001b[0m\u001b[0m\n\u001b[0m\u001b[1;32m    161\u001b[0m         \u001b[0md\u001b[0m \u001b[0;34m=\u001b[0m \u001b[0ms\u001b[0m\u001b[0;34m[\u001b[0m\u001b[0ms\u001b[0m \u001b[0;34m>\u001b[0m \u001b[0meps\u001b[0m\u001b[0;34m]\u001b[0m\u001b[0;34m\u001b[0m\u001b[0;34m\u001b[0m\u001b[0m\n\u001b[1;32m    162\u001b[0m         \u001b[0;32mif\u001b[0m \u001b[0mlen\u001b[0m\u001b[0;34m(\u001b[0m\u001b[0md\u001b[0m\u001b[0;34m)\u001b[0m \u001b[0;34m<\u001b[0m \u001b[0mlen\u001b[0m\u001b[0;34m(\u001b[0m\u001b[0ms\u001b[0m\u001b[0;34m)\u001b[0m \u001b[0;32mand\u001b[0m \u001b[0;32mnot\u001b[0m \u001b[0mallow_singular\u001b[0m\u001b[0;34m:\u001b[0m\u001b[0;34m\u001b[0m\u001b[0;34m\u001b[0m\u001b[0m\n",
      "\u001b[0;31mValueError\u001b[0m: the input matrix must be positive semidefinite"
     ]
    }
   ],
   "source": [
    "spl.trace_a = []\n",
    "spl.trace_b =[]\n",
    "spl.trace_x=[]\n",
    "spl.trace_f1=[]\n",
    "spl.trace_f2=[]\n",
    "spl.trace_beta=[]\n",
    "\n",
    "# for i, y in enumerate(spl.observations):\n",
    "i = 0\n",
    "\n",
    "x0 = np.random.normal(spl.observations[0,:,i], np.sqrt(100))\n",
    "x = np.random.normal(x0, 10, size=(spl.num_states + 1, spl.num_bugs))\n",
    "\n",
    "f1 = np.random.normal(0, np.sqrt(spl.theta_var), size=(spl.num_states + 1, spl.num_bugs))\n",
    "f2 = np.random.normal(0, np.sqrt(spl.theta_var), size=(spl.num_states + 1, spl.num_bugs))\n",
    "\n",
    "theta2 = [np.random.normal(0,np.sqrt(spl.avar)), np.random.normal(0,np.sqrt(spl.bvar))]\n",
    "\n",
    "s = 0\n",
    "\n",
    "mu_theta_n, sig_theta = update_theta(x,f2)\n",
    "betas = st.multivariate_normal(mu_post, sig_post*np.eye(sig_post.shape[0])).rvs()\n",
    "# betas = st.multivariate_normal(mu_theta_n, sig_theta).rvs()\n",
    "xnew = spl.update_x(x, y, x0, betas, theta_2)\n",
    "\n",
    "# spl.pvar = spl.update_pvar(x,f1)\n",
    "# spl.poe_var = spl.update_poe(f1,f2)"
   ]
  },
  {
   "cell_type": "code",
   "execution_count": null,
   "metadata": {},
   "outputs": [],
   "source": [
    "spl.trace_a = []\n",
    "spl.trace_b =[]\n",
    "spl.trace_x=[]\n",
    "spl.trace_f1=[]\n",
    "spl.trace_f2=[]\n",
    "spl.trace_beta=[]\n",
    "\n",
    "for i, y in enumerate(spl.observations):\n",
    "    x0 = spl.states[i][0]\n",
    "    x = np.random.normal(x0, 10, size=spl.states.shape[-1])\n",
    "\n",
    "    f1 = np.random.normal(0, np.sqrt(spl.theta_var), size=spl.states.shape[-1])\n",
    "    f2 = np.random.normal(0, np.sqrt(spl.theta_var), size=spl.states.shape[-1])\n",
    "    if train_var:\n",
    "        # import pdb; pdb.set_trace()\n",
    "        # spl.mvar = spl.update_mvar(x,y)\n",
    "        spl.pvar = spl.update_pvar(x,f1)\n",
    "        spl.poe_var = spl.update_poe(f1,f2)\n",
    "        # import pdb\n",
    "        # pdb.set_trace()\n",
    "\n",
    "    if plot:\n",
    "        plt.figure()\n",
    "        plt.title('Random starting states')\n",
    "        plt.plot(x,label = 'Random starting states')\n",
    "        plt.plot(spl.states[i], label='True states')\n",
    "        plt.plot(spl.observations[i],label = 'Observations')\n",
    "        plt.xlabel('Time (t)')\n",
    "        plt.ylabel('States (x)')\n",
    "        plt.legend()\n",
    "        plt.show()\n",
    "    # x = np.insert(spl.observations[i][1:], 0, x0) + np.random.normal(0, spl.mvar, size=spl.states[0].shape[0])\n",
    "    if not train_x:\n",
    "        # x = np.insert(spl.observations[i][1:],0,x0) + np.random.normal(0, 1,size = spl.states[0].shape[0])\n",
    "        x = spl.states[i]\n",
    "    theta2 = [np.random.normal(0,np.sqrt(spl.avar)), np.random.normal(0,np.sqrt(spl.bvar))]\n",
    "    # spl.poe_var = (1e7)*np.eye(len(spl.states[0]))\n",
    "    betavec = []\n",
    "    xxvec = []\n",
    "    f2vec = []\n",
    "    avec=[]\n",
    "    bvec=[]\n",
    "    f1vec=[]\n",
    "    import time\n",
    "    end_ = [True]\n",
    "    for s in range(gibbs_steps):\n",
    "        end_.append(True)\n",
    "        start = time.time()\n",
    "        # Update theta 1\n",
    "        end1 = time.time()\n",
    "        if train_f1:\n",
    "            # spl.pvar = 1\n",
    "            mu_theta_n, sig_theta = spl.update_theta(x,f2)\n",
    "            betas = st.multivariate_normal(mu_theta_n.squeeze(), sig_theta).rvs()\n",
    "            if s > 0:\n",
    "                if sum(abs(mu_theta_n-mu_theta))>=.0001:\n",
    "                    end_[-1] = False\n",
    "\n",
    "            mu_theta = mu_theta_n\n",
    "\n",
    "        else:\n",
    "            betas = spl.true_betas[i]\n",
    "        # print('update theta: ' + str(end1-start))\n",
    "        if s % spl.plot_iter == 0 and train_f1 and plot:\n",
    "            plt.figure()\n",
    "            plt.title('Observation ' + str(i) + ', Step ' + str(s))\n",
    "            plt.plot(mu_theta,label = r'Inferred $\\mu_{\\theta_{1}}$')\n",
    "            plt.plot(betas, label=r'Sampled $\\theta_{1}$ from inferred $\\mu_{\\theta_{1}}$ and $\\Sigma_{\\theta_{1}}$')\n",
    "            plt.plot(spl.true_betas[i], label=r'True $\\theta_{1}$')\n",
    "            plt.xlabel(r'$\\theta_{1}$ index')\n",
    "            plt.ylabel(r'$\\theta_{1}$')\n",
    "            plt.legend()\n",
    "            plt.show()\n",
    "\n",
    "        # spl.poe_var = 1*np.eye(len(spl.states[0]))\n",
    "        # Update x based on theta 1\n",
    "\n",
    "        # f1_part = betas@spl.calc_bmat(x[:-1]).T\n",
    "        if train_x:\n",
    "            # if s < 20:\n",
    "            #     spl.pvar = 1e7\n",
    "            xnew = spl.update_x(x, y, x0, betas, theta_2)\n",
    "            if sum(abs(x-xnew))>=.0001:\n",
    "                end_[-1] = False\n",
    "                # import pdb; pdb.set_trace()\n",
    "            x = xnew\n",
    "\n",
    "        f1 = x + spl.dt*(betas@spl.calc_bmat(x).T)                \n",
    "        end2 = time.time()\n",
    "        if s % spl.plot_iter == 0 and train_x and plot:\n",
    "            plt.figure()\n",
    "            plt.title('Observation ' + str(i) + ', Step ' + str(s))\n",
    "            plt.plot(xnew,label = 'Inferred states')\n",
    "            plt.plot(spl.states[i], label='True states')\n",
    "            plt.plot(spl.observations[i],label = 'Observations')\n",
    "            plt.xlabel('Time (t)')\n",
    "            plt.ylabel('States (x)')\n",
    "            plt.legend()\n",
    "            plt.show()\n",
    "        # print('update x: ' + str(end2-start))\n",
    "        # Calculate f1 based on x and theta 1\n",
    "\n",
    "        if s % spl.plot_iter == 0 and (train_f1 or train_x) and plot:\n",
    "            plt.figure()\n",
    "            plt.title('Observation ' + str(i) + ', Step ' + str(s))\n",
    "            plt.plot(x, f1,label = r'Inferred $f_{1}$')\n",
    "            plt.plot(spl.states[i],spl.states[i] + spl.dt*(spl.true_betas[i]@spl.true_bmat2[i].T), label=r'True $f_{1}$')\n",
    "            # plt.plot(spl.ys[i], label=r'True $f_{1}$')\n",
    "            plt.xlabel('x (latent states)')\n",
    "            plt.ylabel(r'$f_{1}(x)$')\n",
    "            plt.legend()\n",
    "            plt.show()\n",
    "\n",
    "            # plt.figure()\n",
    "            # plt.title('Observation ' + str(i) + ', Step ' + str(s))\n",
    "            # plt.plot((x[1:]-x[:-1])/spl.dt, betas@spl.calc_bmat(x[:-1]).T,label = r'Inferred $\\theta_{1} B_{xin}$')\n",
    "            # plt.plot((spl.states[i][1:]-spl.states[i][:-1])/spl.dt, spl.true_betas[i]\n",
    "            #          @spl.true_bmat1[i].T, label=r'True $\\theta_{1} B_{xin}$')\n",
    "            # # plt.plot(spl.ys[i], label=r'True $f_{1}$')\n",
    "            # plt.xlabel(r'$(x_{i+1}-x_{i})/\\Delta t)$')\n",
    "            # plt.ylabel(r'$\\theta_{1} B_{xin}$')\n",
    "            # plt.legend()\n",
    "            # plt.show()\n",
    "\n",
    "            plt.figure()\n",
    "            plt.title('Observation ' + str(i) + ', Step ' + str(s))\n",
    "            plt.plot(x[:-1],(betas@spl.calc_bmat(x[:-1]).T), label=r'Inferred $\\theta_{1} B_{xin}$')\n",
    "            plt.plot(spl.states[i][:-1],spl.true_betas[i]@spl.true_bmat1[i].T, label=r'True $\\theta_{1} B_{xin}$')\n",
    "            # plt.plot(spl.true_betas[i]@spl.true_bmat1[i].T, label=r'True $\\theta_{1} B_{xin}$')\n",
    "            # plt.plot(spl.ys[i], label=r'True $f_{1}$')\n",
    "            plt.xlabel('x')\n",
    "            plt.ylabel(r'$\\theta_{1} B_{xin}$')\n",
    "            plt.legend()\n",
    "            plt.show()\n",
    "\n",
    "        end_bmat = time.time()\n",
    "        # print('make f1: ' + str(end_bmat-start))\n",
    "        # Update f2 based on f1, x\n",
    "        if train_f2:\n",
    "            theta2_n = spl.update_f2(x,theta2,f1)\n",
    "            f2 = x + spl.dt*sigmoid(x, theta2[0], theta2[1])\n",
    "            if sum(abs(np.array(theta2_n)-np.array(theta2)))>=0.0001:\n",
    "                end_[-1] = False\n",
    "                # import pdb\n",
    "                # pdb.set_trace()\n",
    "            theta2 = theta2_n\n",
    "        else:\n",
    "            f2 = x + spl.dt*sigmoid(x, spl.true_a, spl.true_b)\n",
    "        end3 = time.time()\n",
    "        # print('update theta 2: ' + str(end3-start))\n",
    "        if s % spl.plot_iter == 0 and train_f2 and plot:\n",
    "            plt.figure()\n",
    "            plt.title('Observation ' + str(i) + ', Step ' + str(s))\n",
    "            plt.plot(x,f2,label = r'Inferred $f_{2}$')\n",
    "            plt.plot(spl.states[i],spl.states[i] + spl.dt*sigmoid(spl.states[i],spl.true_a,spl.true_b), label=r'True $f_{2}$')\n",
    "            plt.xlabel('x')\n",
    "            plt.ylabel('$f_{2}$')\n",
    "            plt.legend()\n",
    "            plt.show()\n",
    "\n",
    "            # plt.figure()\n",
    "            # plt.title('Observation ' + str(i) + ', Step ' + str(s))\n",
    "            # plt.plot((x[1:]-x[:-1])/spl.dt, sigmoid(x[:-1],theta2[0],theta2[1]),\n",
    "            #          label=r'Inferred')\n",
    "            # plt.plot((spl.states[i][1:]-spl.states[i][:-1])/spl.dt, sigmoid(\n",
    "            #     spl.states[i][:-1], spl.true_a, spl.true_b), label=r'True')\n",
    "            # plt.xlabel(r'$(x_{i+1}-x_{i})/\\Delta t)$')\n",
    "            # plt.ylabel(r'$sigmoid(x_{i},\\theta_{2})$')\n",
    "            # plt.legend()\n",
    "            # plt.show()\n",
    "\n",
    "            plt.figure()\n",
    "            plt.title('Observation ' + str(i) + ', Step ' + str(s))\n",
    "            plt.plot(x[:-1],sigmoid(x[:-1], theta2[0], theta2[1]),label=r'Inferred')\n",
    "            plt.plot(spl.states[i][:-1],sigmoid(spl.states[i][:-1],spl.true_a,spl.true_b))\n",
    "            # plt.plot(sigmoid(spl.states[i][:-1], spl.true_a, spl.true_b), label=r'True')\n",
    "            plt.xlabel('x')\n",
    "            plt.ylabel(r'$sigmoid(x_{i},\\theta_{2})$')\n",
    "            plt.legend()\n",
    "            plt.show()\n",
    "            print(theta2)\n",
    "        if s % spl.plot_iter == 0 and train_var:\n",
    "            print('Step ' + str(s))\n",
    "            print('Meas Var:' + str(spl.mvar))\n",
    "            print('Proc Var:' + str(spl.pvar))\n",
    "            print('POE Var:' + str(spl.poe_var[0][0]))\n",
    "        if train_var:\n",
    "            # spl.mvar = spl.update_mvar(x, y)\n",
    "            spl.pvar = spl.update_pvar(x, f1)\n",
    "            spl.poe_var = spl.update_poe(f1, f1)\n",
    "\n",
    "        betavec.append(betas)\n",
    "        f1vec.append(f1)\n",
    "        avec.append(theta2[0])\n",
    "        bvec.append(theta2[1])\n",
    "        xxvec.append(x)\n",
    "        f2vec.append(f2)\n",
    "        end = time.time()\n",
    "        # print(str(s) + ' gibbs loop: ' + str(end-start))\n",
    "        # print('step ' + str(s))\n",
    "        if len(end_)>50:\n",
    "            if all(end_[-50:]) == True:\n",
    "                print('Converged')\n",
    "                break\n",
    "\n",
    "    spl.trace_a.append(avec)\n",
    "    spl.trace_b.append(bvec)\n",
    "    spl.trace_x.append(xxvec)\n",
    "    spl.trace_f1.append(f1vec)\n",
    "    spl.trace_f2.append(f2vec)\n",
    "    spl.trace_beta.append(betavec)\n",
    "    # import pdb; pdb.set_trace()\n",
    "    print('Observation ' + str(i) + ' Complete')\n"
   ]
  }
 ],
 "metadata": {
  "kernelspec": {
   "display_name": "Python 3",
   "language": "python",
   "name": "python3"
  },
  "language_info": {
   "codemirror_mode": {
    "name": "ipython",
    "version": 3
   },
   "file_extension": ".py",
   "mimetype": "text/x-python",
   "name": "python",
   "nbconvert_exporter": "python",
   "pygments_lexer": "ipython3",
   "version": "3.7.3"
  }
 },
 "nbformat": 4,
 "nbformat_minor": 2
}
