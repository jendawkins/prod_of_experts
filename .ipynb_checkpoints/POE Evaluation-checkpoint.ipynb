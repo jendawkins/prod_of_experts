{
 "cells": [
  {
   "cell_type": "code",
   "execution_count": null,
   "metadata": {},
   "outputs": [],
   "source": [
    "import numpy as np\n",
    "import matplotlib.pyplot as plt\n",
    "import pickle\n",
    "import os\n",
    "from helper import *\n",
    "\n",
    "dirs = [d for d in os.listdir() if d.startswith('outdir_') if '.' not in d if 'class' not in d]\n",
    "\n",
    "classes = [d for d in os.listdir() if d.startswith('outdir_') if '.' not in d if 'class' in d]\n",
    "dirs.sort()\n",
    "classes.sort()"
   ]
  },
  {
   "cell_type": "code",
   "execution_count": null,
   "metadata": {
    "scrolled": true
   },
   "outputs": [],
   "source": [
    "num_samps = 10\n",
    "for i,d in enumerate(dirs):\n",
    "    files = [fi for fi in os.listdir(d) if '.png' not in fi]\n",
    "    files.sort()\n",
    "    class_file = classes[i]\n",
    "    \n",
    "    if d.split('_')[3] != 'competing2':\n",
    "        continue\n",
    "    for f in [files[1], files[-1]]:\n",
    "        with open(d + '/' + f,\"rb\") as pickle_in:\n",
    "            trace_a, trace_b, trace_x, trace_f1,trace_f2, trace_beta = pickle.load(pickle_in)\n",
    "        with open(class_file,\"rb\") as spl_in:\n",
    "            spl = pickle.load(spl_in)\n",
    "            \n",
    "        use_mm = not (trace_b[0][0] == 1).all()\n",
    "        \n",
    "        tvec = np.arange(0,spl.time+2*spl.dt,spl.dt)\n",
    "        num_bugs = trace_a[0][0].shape[0]\n",
    "        for o in range(len(trace_a[0])):\n",
    "            trace_a_mat = np.vstack([trace_a[k][o].flatten(order='F') for k in range(len(trace_a)-10,len(trace_a))])\n",
    "            trace_b_mat = np.vstack([trace_b[k][o].flatten(order='F') for k in range(len(trace_a)-10,len(trace_a))])\n",
    "\n",
    "            a_guess = np.mean(trace_a_mat,0)\n",
    "            b_guess = np.mean(trace_b_mat,0)\n",
    "\n",
    "            a_cov = np.cov(trace_a_mat.T)\n",
    "            b_cov = np.cov(trace_b_mat.T)\n",
    "\n",
    "            for n in range(num_samps):\n",
    "                a_samp = np.reshape(st.multivariate_normal(a_guess, a_cov).rvs(),(num_bugs,num_bugs),order='F')\n",
    "                \n",
    "                if spl.use_mm == 0:\n",
    "                    b_samp = np.ones(a_samp.shape)\n",
    "                else:\n",
    "                    b_samp = np.reshape(st.multivariate_normal(b_guess, b_cov).rvs(),(num_bugs,num_bugs),order='F')\n",
    "\n",
    "                x,y = generate_data_MM(a_samp, b_samp, spl.gr,spl.xin,spl.dt,spl.use_mm,\\\n",
    "                                      spl.mvar[0][0],0,spl.num_mice,spl.num_states)\n",
    "                \n",
    "                xtrue, ytrue = generate_data_MM(spl.true_a, spl.true_b, spl.gr,spl.xin,\\\n",
    "                                                spl.dt,spl.use_mm,spl.mvar[0][0],0,spl.num_mice,spl.num_states)\n",
    "                \n",
    "                \n",
    "                plt.plot(tvec, x[0], label = 'Predicted states')\n",
    "                plt.plot(tvec, xtrue[0],label = 'States')\n",
    "                plt.ylim([0,10])\n",
    "                plt.show()\n",
    "                \n",
    "                mse_error = np.sum((x[0]-xtrue[0])**2)\n",
    "                print(mse_error)\n",
    "                import pdb; pdb.set_trace()\n",
    "                \n",
    "                #         x,y = generate_data_MM()"
   ]
  },
  {
   "cell_type": "code",
   "execution_count": 33,
   "metadata": {},
   "outputs": [
    {
     "data": {
      "text/plain": [
       "array([[0.1, 0. , 0. , ..., 0. , 0. , 0. ],\n",
       "       [0. , 0.1, 0. , ..., 0. , 0. , 0. ],\n",
       "       [0. , 0. , 0.1, ..., 0. , 0. , 0. ],\n",
       "       ...,\n",
       "       [0. , 0. , 0. , ..., 0.1, 0. , 0. ],\n",
       "       [0. , 0. , 0. , ..., 0. , 0.1, 0. ],\n",
       "       [0. , 0. , 0. , ..., 0. , 0. , 0.1]])"
      ]
     },
     "execution_count": 33,
     "metadata": {},
     "output_type": "execute_result"
    }
   ],
   "source": [
    "spl.mvar"
   ]
  },
  {
   "cell_type": "code",
   "execution_count": 30,
   "metadata": {},
   "outputs": [
    {
     "data": {
      "text/plain": [
       "(1, 2)"
      ]
     },
     "execution_count": 30,
     "metadata": {},
     "output_type": "execute_result"
    }
   ],
   "source": [
    "spl.xin[0].shape"
   ]
  },
  {
   "cell_type": "code",
   "execution_count": 26,
   "metadata": {},
   "outputs": [
    {
     "ename": "LinAlgError",
     "evalue": "Singular matrix",
     "output_type": "error",
     "traceback": [
      "\u001b[0;31m---------------------------------------------------------------------------\u001b[0m",
      "\u001b[0;31mLinAlgError\u001b[0m                               Traceback (most recent call last)",
      "\u001b[0;32m<ipython-input-26-64e93e4e7f0b>\u001b[0m in \u001b[0;36m<module>\u001b[0;34m\u001b[0m\n\u001b[1;32m      1\u001b[0m \u001b[0mnp\u001b[0m\u001b[0;34m.\u001b[0m\u001b[0mlinalg\u001b[0m\u001b[0;34m.\u001b[0m\u001b[0minv\u001b[0m\u001b[0;34m(\u001b[0m\u001b[0ma_cov\u001b[0m \u001b[0;34m+\u001b[0m \u001b[0mnp\u001b[0m\u001b[0;34m.\u001b[0m\u001b[0meye\u001b[0m\u001b[0;34m(\u001b[0m\u001b[0;36m4\u001b[0m\u001b[0;34m)\u001b[0m\u001b[0;34m)\u001b[0m\u001b[0;34m\u001b[0m\u001b[0;34m\u001b[0m\u001b[0m\n\u001b[0;32m----> 2\u001b[0;31m \u001b[0mnp\u001b[0m\u001b[0;34m.\u001b[0m\u001b[0mlinalg\u001b[0m\u001b[0;34m.\u001b[0m\u001b[0minv\u001b[0m\u001b[0;34m(\u001b[0m\u001b[0mb_cov\u001b[0m\u001b[0;34m)\u001b[0m\u001b[0;34m\u001b[0m\u001b[0;34m\u001b[0m\u001b[0m\n\u001b[0m",
      "\u001b[0;32m/Library/Frameworks/Python.framework/Versions/3.7/lib/python3.7/site-packages/numpy/linalg/linalg.py\u001b[0m in \u001b[0;36minv\u001b[0;34m(a)\u001b[0m\n\u001b[1;32m    549\u001b[0m     \u001b[0msignature\u001b[0m \u001b[0;34m=\u001b[0m \u001b[0;34m'D->D'\u001b[0m \u001b[0;32mif\u001b[0m \u001b[0misComplexType\u001b[0m\u001b[0;34m(\u001b[0m\u001b[0mt\u001b[0m\u001b[0;34m)\u001b[0m \u001b[0;32melse\u001b[0m \u001b[0;34m'd->d'\u001b[0m\u001b[0;34m\u001b[0m\u001b[0;34m\u001b[0m\u001b[0m\n\u001b[1;32m    550\u001b[0m     \u001b[0mextobj\u001b[0m \u001b[0;34m=\u001b[0m \u001b[0mget_linalg_error_extobj\u001b[0m\u001b[0;34m(\u001b[0m\u001b[0m_raise_linalgerror_singular\u001b[0m\u001b[0;34m)\u001b[0m\u001b[0;34m\u001b[0m\u001b[0;34m\u001b[0m\u001b[0m\n\u001b[0;32m--> 551\u001b[0;31m     \u001b[0mainv\u001b[0m \u001b[0;34m=\u001b[0m \u001b[0m_umath_linalg\u001b[0m\u001b[0;34m.\u001b[0m\u001b[0minv\u001b[0m\u001b[0;34m(\u001b[0m\u001b[0ma\u001b[0m\u001b[0;34m,\u001b[0m \u001b[0msignature\u001b[0m\u001b[0;34m=\u001b[0m\u001b[0msignature\u001b[0m\u001b[0;34m,\u001b[0m \u001b[0mextobj\u001b[0m\u001b[0;34m=\u001b[0m\u001b[0mextobj\u001b[0m\u001b[0;34m)\u001b[0m\u001b[0;34m\u001b[0m\u001b[0;34m\u001b[0m\u001b[0m\n\u001b[0m\u001b[1;32m    552\u001b[0m     \u001b[0;32mreturn\u001b[0m \u001b[0mwrap\u001b[0m\u001b[0;34m(\u001b[0m\u001b[0mainv\u001b[0m\u001b[0;34m.\u001b[0m\u001b[0mastype\u001b[0m\u001b[0;34m(\u001b[0m\u001b[0mresult_t\u001b[0m\u001b[0;34m,\u001b[0m \u001b[0mcopy\u001b[0m\u001b[0;34m=\u001b[0m\u001b[0;32mFalse\u001b[0m\u001b[0;34m)\u001b[0m\u001b[0;34m)\u001b[0m\u001b[0;34m\u001b[0m\u001b[0;34m\u001b[0m\u001b[0m\n\u001b[1;32m    553\u001b[0m \u001b[0;34m\u001b[0m\u001b[0m\n",
      "\u001b[0;32m/Library/Frameworks/Python.framework/Versions/3.7/lib/python3.7/site-packages/numpy/linalg/linalg.py\u001b[0m in \u001b[0;36m_raise_linalgerror_singular\u001b[0;34m(err, flag)\u001b[0m\n\u001b[1;32m     95\u001b[0m \u001b[0;34m\u001b[0m\u001b[0m\n\u001b[1;32m     96\u001b[0m \u001b[0;32mdef\u001b[0m \u001b[0m_raise_linalgerror_singular\u001b[0m\u001b[0;34m(\u001b[0m\u001b[0merr\u001b[0m\u001b[0;34m,\u001b[0m \u001b[0mflag\u001b[0m\u001b[0;34m)\u001b[0m\u001b[0;34m:\u001b[0m\u001b[0;34m\u001b[0m\u001b[0;34m\u001b[0m\u001b[0m\n\u001b[0;32m---> 97\u001b[0;31m     \u001b[0;32mraise\u001b[0m \u001b[0mLinAlgError\u001b[0m\u001b[0;34m(\u001b[0m\u001b[0;34m\"Singular matrix\"\u001b[0m\u001b[0;34m)\u001b[0m\u001b[0;34m\u001b[0m\u001b[0;34m\u001b[0m\u001b[0m\n\u001b[0m\u001b[1;32m     98\u001b[0m \u001b[0;34m\u001b[0m\u001b[0m\n\u001b[1;32m     99\u001b[0m \u001b[0;32mdef\u001b[0m \u001b[0m_raise_linalgerror_nonposdef\u001b[0m\u001b[0;34m(\u001b[0m\u001b[0merr\u001b[0m\u001b[0;34m,\u001b[0m \u001b[0mflag\u001b[0m\u001b[0;34m)\u001b[0m\u001b[0;34m:\u001b[0m\u001b[0;34m\u001b[0m\u001b[0;34m\u001b[0m\u001b[0m\n",
      "\u001b[0;31mLinAlgError\u001b[0m: Singular matrix"
     ]
    }
   ],
   "source": [
    "np.linalg.inv(a_cov + np.eye(4))\n",
    "np.linalg.inv(b_cov)"
   ]
  },
  {
   "cell_type": "code",
   "execution_count": 27,
   "metadata": {},
   "outputs": [
    {
     "data": {
      "text/plain": [
       "array([[0., 0., 0., 0.],\n",
       "       [0., 0., 0., 0.],\n",
       "       [0., 0., 0., 0.],\n",
       "       [0., 0., 0., 0.]])"
      ]
     },
     "execution_count": 27,
     "metadata": {},
     "output_type": "execute_result"
    }
   ],
   "source": [
    "b_cov"
   ]
  },
  {
   "cell_type": "code",
   "execution_count": null,
   "metadata": {},
   "outputs": [],
   "source": []
  }
 ],
 "metadata": {
  "kernelspec": {
   "display_name": "Python 3",
   "language": "python",
   "name": "python3"
  }
 },
 "nbformat": 4,
 "nbformat_minor": 2
}
