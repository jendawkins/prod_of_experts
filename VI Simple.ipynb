{
 "cells": [
  {
   "cell_type": "code",
   "execution_count": 4,
   "metadata": {},
   "outputs": [],
   "source": [
    "import numpy as np\n",
    "import matplotlib.pyplot as plt"
   ]
  },
  {
   "cell_type": "markdown",
   "metadata": {},
   "source": [
    "# Generate data"
   ]
  },
  {
   "cell_type": "code",
   "execution_count": 17,
   "metadata": {},
   "outputs": [
    {
     "data": {
      "text/plain": [
       "<matplotlib.collections.PathCollection at 0x11688b908>"
      ]
     },
     "execution_count": 17,
     "metadata": {},
     "output_type": "execute_result"
    },
    {
     "data": {
      "image/png": "[encoded data removed]",
      "text/plain": [
       "<Figure size 432x288 with 1 Axes>"
      ]
     },
     "metadata": {
      "needs_background": "light"
     },
     "output_type": "display_data"
    }
   ],
   "source": [
    "np.random.seed(4)\n",
    "xin = 1\n",
    "a = 1.2\n",
    "var = 10\n",
    "yout = [xin + np.random.normal(0,np.sqrt(var))]\n",
    "xout = [xin]\n",
    "for i in range(20):\n",
    "    xout.append(xin*a)\n",
    "    xin = xout[-1]\n",
    "    yout.append(xout[-1] + np.random.normal(0,np.sqrt(var)))\n",
    "plt.plot(range(21),xout)\n",
    "plt.scatter(range(21),yout)"
   ]
  },
  {
   "cell_type": "code",
   "execution_count": null,
   "metadata": {},
   "outputs": [],
   "source": [
    "def model(mu_a, mu_x, sig_x):\n",
    "    mu_x = mu_a*mu_x\n",
    "    y =mu_x + np.random.normal(0,sig_x)\n",
    "    return mu_x, y"
   ]
  },
  {
   "cell_type": "code",
   "execution_count": null,
   "metadata": {},
   "outputs": [],
   "source": [
    "def ll_gaussian(y, mu, log_var):\n",
    "    sigma = np.exp(0.5 * log_var)\n",
    "    return -0.5 * np.log(2 * np.pi * sigma**2) - (1 / (2 * sigma**2))* (y-mu)**2\n",
    "\n",
    "def elbo(y_pred, y, mu, log_var):\n",
    "    # likelihood of observing y given Variational mu and sigma\n",
    "    likelihood = ll_gaussian(y, mu, log_var)\n",
    "    \n",
    "    # prior probability of y_pred\n",
    "    log_prior = ll_gaussian(y_pred, 0, 1)\n",
    "    \n",
    "    # variational probability of y_pred\n",
    "    log_p_q = ll_gaussian(y_pred, mu, log_var)\n",
    "    \n",
    "    # by taking the mean we approximate the expectation\n",
    "    return (likelihood + log_prior - log_p_q).mean()\n",
    "\n",
    "def det_loss(y_pred, y, mu, log_var):\n",
    "    return -elbo(y_pred, y, mu, log_var)"
   ]
  },
  {
   "cell_type": "code",
   "execution_count": null,
   "metadata": {},
   "outputs": [],
   "source": [
    "class VI(nn.Module):\n",
    "    def __init__(self):\n",
    "        super().__init__()\n",
    "\n",
    "        self.q_mu = nn.Sequential(\n",
    "            nn.Linear(1, 20),\n",
    "            nn.ReLU(),\n",
    "            nn.Linear(20, 10),\n",
    "            nn.ReLU(),\n",
    "            nn.Linear(10, 1)\n",
    "        )\n",
    "        self.q_log_var = nn.Sequential(\n",
    "            nn.Linear(1, 20),\n",
    "            nn.ReLU(),\n",
    "            nn.Linear(20, 10),\n",
    "            nn.ReLU(),\n",
    "            nn.Linear(10, 1)\n",
    "        )\n",
    "\n",
    "    def reparameterize(self, mu, log_var):\n",
    "        # std can not be negative, thats why we use log variance\n",
    "        sigma = torch.exp(0.5 * log_var) + 1e-5\n",
    "        eps = torch.randn_like(sigma)\n",
    "        return mu + sigma * eps\n",
    "\n",
    "    def forward(self, x):\n",
    "        mu = self.q_mu(x)\n",
    "        log_var = self.q_log_var(x)\n",
    "        return self.reparameterize(mu, log_var), mu, log_var"
   ]
  }
 ],
 "metadata": {
  "kernelspec": {
   "display_name": "Python 3",
   "language": "python",
   "name": "python3"
  },
  "language_info": {
   "codemirror_mode": {
    "name": "ipython",
    "version": 3
   },
   "file_extension": ".py",
   "mimetype": "text/x-python",
   "name": "python",
   "nbconvert_exporter": "python",
   "pygments_lexer": "ipython3",
   "version": "3.7.3"
  }
 },
 "nbformat": 4,
 "nbformat_minor": 2
}
